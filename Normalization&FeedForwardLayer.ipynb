{
  "nbformat": 4,
  "nbformat_minor": 0,
  "metadata": {
    "colab": {
      "provenance": [],
      "authorship_tag": "ABX9TyPcP8toqChBIYbpLvXwzGWk",
      "include_colab_link": true
    },
    "kernelspec": {
      "name": "python3",
      "display_name": "Python 3"
    },
    "language_info": {
      "name": "python"
    }
  },
  "cells": [
    {
      "cell_type": "markdown",
      "metadata": {
        "id": "view-in-github",
        "colab_type": "text"
      },
      "source": [
        "<a href=\"https://colab.research.google.com/github/jongheonleee/LLM_study/blob/main/Normalization%26FeedForwardLayer.ipynb\" target=\"_parent\"><img src=\"https://colab.research.google.com/assets/colab-badge.svg\" alt=\"Open In Colab\"/></a>"
      ]
    },
    {
      "cell_type": "code",
      "execution_count": 1,
      "metadata": {
        "colab": {
          "base_uri": "https://localhost:8080/"
        },
        "id": "teWHkKYvRHDj",
        "outputId": "3be848f5-c343-4055-b472-e3ccbdc36de2"
      },
      "outputs": [
        {
          "output_type": "stream",
          "name": "stdout",
          "text": [
            "input text list =>  ['나는', '최근', '파리', '여행을', '다녀왔다']\n",
            "str2idx =>  {'나는': 0, '최근': 1, '파리': 2, '여행을': 3, '다녀왔다': 4}\n",
            "idx2str =>  {0: '나는', 1: '최근', 2: '파리', 3: '여행을', 4: '다녀왔다'}\n",
            "input_ids =>  [0, 1, 2, 3, 4]\n"
          ]
        },
        {
          "output_type": "execute_result",
          "data": {
            "text/plain": [
              "torch.Size([1, 5, 16])"
            ]
          },
          "metadata": {},
          "execution_count": 1
        }
      ],
      "source": [
        "import torch.nn as nn\n",
        "import torch\n",
        "\n",
        "\n",
        "# > 토큰화 <\n",
        "input_text = '나는 최근 파리 여행을 다녀왔다'\n",
        "input_text_list = input_text.split()\n",
        "print('input text list => ', input_text_list)\n",
        "\n",
        "str2idx = {word:idx for idx, word in enumerate(input_text_list)}\n",
        "idx2str = {idx:word for idx, word in enumerate(input_text_list)}\n",
        "print('str2idx => ', str2idx)\n",
        "print('idx2str => ', idx2str)\n",
        "\n",
        "input_ids = [str2idx[word] for word in input_text_list]\n",
        "print('input_ids => ', input_ids)\n",
        "\n",
        "# > 토큰 임베딩으로 변환하기 <\n",
        "embedding_dim = 16\n",
        "embed_layer = nn.Embedding(len(str2idx), embedding_dim)\n",
        "\n",
        "input_embeddings = embed_layer(torch.tensor(input_ids))\n",
        "input_embeddings = input_embeddings.unsqueeze(0)\n",
        "input_embeddings.shape\n",
        "\n",
        "\n",
        "# > 절대적 위치 인코딩 <\n",
        "embedding_dim = 16\n",
        "max_position = 12\n",
        "embed_layer = nn.Embedding(len(str2idx), embedding_dim)\n",
        "position_embed_layer = nn.Embedding(max_position, embedding_dim)\n",
        "\n",
        "position_ids = torch.arange(len(input_ids), dtype=torch.long).unsqueeze(0)\n",
        "position_encodings = position_embed_layer(position_ids)\n",
        "token_embeddings = embed_layer(torch.tensor(input_ids))\n",
        "token_embeddings = token_embeddings.unsqueeze(0)\n",
        "input_embeddings = token_embeddings + position_encodings\n",
        "input_embeddings.shape"
      ]
    },
    {
      "cell_type": "code",
      "source": [
        "# 층 정규화 코드\n",
        "norm = nn.LayerNorm(embedding_dim)\n",
        "norm_x = norm(input_embeddings)\n",
        "norm_x.shape\n",
        "\n",
        "norm_x.mean(dim=-1).data, norm_x.std(dim=1).data # 실제로 평균과 표준편차 확인하기"
      ],
      "metadata": {
        "colab": {
          "base_uri": "https://localhost:8080/"
        },
        "id": "MYKz1QCcS5vS",
        "outputId": "b7903e5e-6bd0-4bdd-a95d-1f170f6bf0d1"
      },
      "execution_count": 2,
      "outputs": [
        {
          "output_type": "execute_result",
          "data": {
            "text/plain": [
              "(tensor([[-1.4901e-08,  2.9802e-08, -3.7253e-08, -1.4901e-08,  3.7253e-09]]),\n",
              " tensor([[0.8306, 1.0567, 0.8631, 0.3138, 0.8157, 0.4767, 1.4511, 0.9057, 0.2182,\n",
              "          1.1453, 0.8515, 0.8423, 1.1153, 1.4657, 1.9802, 0.7376]]))"
            ]
          },
          "metadata": {},
          "execution_count": 2
        }
      ]
    },
    {
      "cell_type": "code",
      "source": [
        "class MultiheadAttention(nn.Module):\n",
        "\n",
        "  def __init__(self, token_embed_dim, d_model, n_head, is_causal=False):\n",
        "    super().__init__()\n",
        "    self.n_head = n_head\n",
        "    self.is_causal = is_causal\n",
        "\n",
        "    self.weight_q = nn.Linear(token_embed_dim, d_model)\n",
        "    self.weight_k = nn.Linear(token_embed_dim, d_model)\n",
        "    self.weight_v = nn.Linear(token_embed_dim, d_model)\n",
        "    self.concat_linear = nn.Linear(d_model, d_model)\n",
        "\n",
        "  def forward(self, querys, keys, values):\n",
        "    B, T, C = querys.size()\n",
        "    querys = self.weight_q(querys).view(B, T, self.n_head, C // self.n_head).transpose(1, 2)\n",
        "    keys = self.weight_k(keys).view(B, T, self.n_head, C // self.n_head).transpose(1, 2)\n",
        "    values = self.weight_v(values).view(B, T, self.n_head, C // self.n_head).transpose(1, 2)\n",
        "    attention = compute_attention(querys, keys, values, self.is_causal)\n",
        "    output = attention.transpose(1, 2).contiguous().view(B, T, C)\n",
        "    output = self.concat_linear(output)\n",
        "    return output\n"
      ],
      "metadata": {
        "id": "UEYvb4_9ZY64"
      },
      "execution_count": 8,
      "outputs": []
    },
    {
      "cell_type": "code",
      "source": [
        "# > 피드 포워드 층 코드 <\n",
        "class PreLayerNormFeedForward(nn.Module):\n",
        "  def __init__(self, d_model, dim_feedforward, dropout):\n",
        "    super().__init__()\n",
        "\n",
        "    self.linear1 = nn.Linear(d_model, dim_feedforward) # 선형 층 1\n",
        "    self.linear2 = nn.Linear(dim_feedforward, d_model) # 선형 층 2\n",
        "    self.dropout1 = nn.Dropout(dropout) # 드랍아웃 층 1\n",
        "    self.dropout2 = nn.Dropout(dropout) # 드랍아웃 층 2\n",
        "    self.activation = nn.GELU() # 활성 함수\n",
        "    self.norm = nn.LayerNorm(d_model) # 층 정규화\n",
        "\n",
        "  def forward(self, src):\n",
        "    x = self.norm(src)\n",
        "    x = x + self.linear2(self.dropout1(self.activation(self.linear1(x))))\n",
        "    x = self.dropout2(x)\n",
        "    return x\n",
        "\n"
      ],
      "metadata": {
        "id": "rb4HCEBkTSCE"
      },
      "execution_count": 3,
      "outputs": []
    },
    {
      "cell_type": "code",
      "source": [
        "# > 인코더 층 <\n",
        "\n",
        "class TransformerEncoderLayer(nn.Module):\n",
        "  def __init__(self, d_model, nhead, dim_feedforward, dropout):\n",
        "    super.__init__()\n",
        "    self.attn = nn.MultiheadAttention(d_model, d_model, nhead)\n",
        "    self.norm1 = nn.LayerNorm(d_model)\n",
        "    self.dropout1 = nn.Dropout(dropout)\n",
        "    self.feed_forward = PreLayerNormFeedForward(d_model, dim_feedforward, dropout)\n",
        "\n",
        "\n",
        "  def forward(self, src):\n",
        "    norm_x = self.norm1(src)\n",
        "    attn_output = self.attn(norm_x, norm_x, norm_x)\n",
        "    x = src + self.dropout1(attn_output)\n",
        "\n",
        "    # 피드 포워드\n",
        "    x = self.feed_forward(x)\n",
        "    return x\n"
      ],
      "metadata": {
        "id": "KUCFQsuDUvb2"
      },
      "execution_count": 5,
      "outputs": []
    },
    {
      "cell_type": "code",
      "source": [
        "# > 인코더 구현 <\n",
        "import copy\n",
        "\n",
        "def get_clones(module, N):\n",
        "  return nn.ModuleList([copy.deepcopy(module) for i in range(N)])\n",
        "\n",
        "class TransformerEncoder(nn.Module):\n",
        "  def __init__(self, encoder_layer, num_layers):\n",
        "    super().__init__()\n",
        "    self.layers = get_clones(encoder_layer, num_layers)\n",
        "    self.num_layers = num_layers\n",
        "    self.norm = norm\n",
        "\n",
        "  def forward(self, src):\n",
        "    output = src\n",
        "\n",
        "    for mod in self.layers:\n",
        "      output = mod(output)\n",
        "    return self.norm(output)\n",
        "\n",
        ""
      ],
      "metadata": {
        "id": "kHys129UVmZD"
      },
      "execution_count": 6,
      "outputs": []
    },
    {
      "cell_type": "code",
      "source": [
        "# > 디코더에서 어텐션 연산(마스크 어텐션) <\n",
        "from math import sqrt\n",
        "import torch.nn.functional as F\n",
        "\n",
        "def compute_attention(querys, keys, values, is_causal=False):\n",
        "  dim_k = querys.size(-1)\n",
        "  scores = querys @ keys.transpose(-2, -1) / sqrt(dim_k)\n",
        "\n",
        "  if is_causal:\n",
        "    query_length = querys.size(-2)\n",
        "    key_length = keys.size(-2)\n",
        "    temp_mask = torch.ones(query_length, key_length,\n",
        "                           dtype=torch.bool).tril(diagonal=0)\n",
        "    scores = scores.masked_fill(temp_mask == False, float('-inf'))\n",
        "\n",
        "  weights = F.softmax(scores, dim=-1)\n",
        "  return weights @ values"
      ],
      "metadata": {
        "id": "myeSZzfEWSl-"
      },
      "execution_count": 7,
      "outputs": []
    },
    {
      "cell_type": "code",
      "source": [
        "# > 크로스 어텐션이 포함된 디코더 층 <\n",
        "class TransformerDecoderLayer(nn.Module):\n",
        "  def __init__(self, d_model, nhead, dim_feedforward=2048, dropout=0.1):\n",
        "    super().__init__()\n",
        "    self.self_attn = MultiheadAttention(d_model, d_model, nhead)\n",
        "    self.multihead_attn = MultiheadAttention(d_model, d_model, nhead)\n",
        "    self.feed_forward = PreLayerNormFeedForward(d_model, dim_feedforward, dropout)\n",
        "\n",
        "    self.norm1 = nn.LayerNorm(d_model)\n",
        "    self.norm2 = nn.LayerNorm(d_model)\n",
        "    self.dropout1 = nn.Dropout(dropout)\n",
        "    self.dropout2 = nn.Dropout(dropout)\n",
        "\n",
        "  def forward(self, tgt, encoder_output, is_causal=True):\n",
        "    # 셀프 어텐션 연산\n",
        "    x = self.norm1(tgt)\n",
        "    x = x + self.dropout1(self.self_attn(x, x, x, is_causal=is_causal))\n",
        "\n",
        "    # 크로스 어텐션 연산\n",
        "    x = self.norm2(x)\n",
        "    x = x + self.dropout2(self.multihead_attn(x, encoder_output, encoder_output))\n",
        "\n",
        "    # 피드 포워드 연산\n",
        "    x = self.feed_forward(x)\n",
        "    return x\n",
        "\n",
        ""
      ],
      "metadata": {
        "id": "cKzrj1M1Y21T"
      },
      "execution_count": 9,
      "outputs": []
    },
    {
      "cell_type": "code",
      "source": [
        "# > 디코더 구현 <\n",
        "\n",
        "import copy\n",
        "\n",
        "def get_clones(module, N):\n",
        "  return nn.ModuleList([copy.deepcopy(module) for i in range(N)])\n",
        "\n",
        "\n",
        "class TransformerDecoder(nn.Module):\n",
        "  def __init__(self, decoder_layer, num_layer):\n",
        "    super().__init__()\n",
        "    self.layers = get_clones(decoder_layer, num_layer)\n",
        "    self.num_layer = num_layer\n",
        "\n",
        "  def forward(self, tgt, src):\n",
        "    output = tgt\n",
        "\n",
        "    for mod in self.layers:\n",
        "      output = mod(tgt, src)\n",
        "\n",
        "    return output"
      ],
      "metadata": {
        "id": "D6ohPzyOaWE1"
      },
      "execution_count": 10,
      "outputs": []
    },
    {
      "cell_type": "code",
      "source": [],
      "metadata": {
        "id": "LtcBOI7Ea1_W"
      },
      "execution_count": null,
      "outputs": []
    }
  ]
}